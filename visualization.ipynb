{
 "cells": [
  {
   "cell_type": "code",
   "execution_count": null,
   "metadata": {},
   "outputs": [],
   "source": [
    "import torch\n",
    "from model.UNet3D import UNet3D\n",
    "from utils import load_config, plot_overlay, plot_slices, plot_test\n",
    "from dataloader import Dataset\n",
    "from torch.utils.data import DataLoader, random_split\n",
    "from train import Trainer, Tester\n",
    "from logger import Logger\n",
    "from postprocessing import calc_volumes\n",
    "\n",
    "print(torch.__version__) \n",
    "print(torch.cuda.is_available())\n",
    "\n",
    "if __name__ == \"__main__\":  # must be enabled for num_workers > 0\n",
    "    config = load_config(\"config.json\")\n",
    "    dataset = Dataset(config)\n",
    "\n",
    "    train_set, val_set, test_set = random_split(dataset=dataset,\n",
    "                                                lengths=[0.7,0.2,0.1], \n",
    "                                                generator=torch.Generator().manual_seed(42))\n",
    "\n",
    "    train_loader = DataLoader(dataset=train_set, \n",
    "                            batch_size=config[\"trainer\"][\"batch_size\"],\n",
    "                            shuffle=True\n",
    "                            )\n",
    "    \n",
    "    val_loader = DataLoader(dataset=val_set, \n",
    "                            batch_size=1\n",
    "                            )\n",
    "    \n",
    "    test_loader = DataLoader(dataset=test_set,\n",
    "                            batch_size=1\n",
    "                            )\n",
    "    \n",
    "    print(f\"Train: {len(train_loader)}\\nVal: {len(val_loader)}\\nTest: {len(test_loader)}\")\n",
    "\n",
    "    model = UNet3D(in_channels=1, num_classes=2)\n",
    "    myLogger = Logger(config=config, save=True)\n",
    "    model.cuda()\n",
    "    model.load_state_dict(torch.load(R\"saved\\20240227_172605 320x320x16 150e 0.0005 aug\\weights.pth\"))"
   ]
  },
  {
   "cell_type": "code",
   "execution_count": null,
   "metadata": {},
   "outputs": [],
   "source": [
    "pd_data = calc_volumes(test_set, model)"
   ]
  },
  {
   "cell_type": "code",
   "execution_count": null,
   "metadata": {},
   "outputs": [],
   "source": [
    "import pandas as pd\n",
    "df = pd.DataFrame(pd_data, columns=['Filename', 'Volume [mm^3]', 'Volume [L]', 'DSC (pre-resample)', 'DSC'])\n",
    "df"
   ]
  },
  {
   "cell_type": "code",
   "execution_count": null,
   "metadata": {},
   "outputs": [],
   "source": [
    "from postprocessing import Volume\n",
    "pred = model(test_set[0][0].unsqueeze(0).unsqueeze(0).cuda())\n",
    "vobj = Volume(image=test_set[0][0], \n",
    "              mask=test_set[0][1],\n",
    "              prediction=pred,\n",
    "              header=test_set[0][2])\n",
    "vobj.get_volume()"
   ]
  },
  {
   "cell_type": "code",
   "execution_count": null,
   "metadata": {},
   "outputs": [],
   "source": [
    "test_set[0][2]"
   ]
  },
  {
   "cell_type": "code",
   "execution_count": null,
   "metadata": {},
   "outputs": [],
   "source": [
    "640*640*17*(0.625*0.625*24)"
   ]
  },
  {
   "cell_type": "code",
   "execution_count": null,
   "metadata": {},
   "outputs": [],
   "source": [
    "160*160*16*(2.5*2.5*25.5)"
   ]
  },
  {
   "cell_type": "code",
   "execution_count": null,
   "metadata": {},
   "outputs": [],
   "source": [
    "import numpy as np\n",
    "voxel_volume = vobj.get_new_spacings(test_set[0][2], test_set[0][1].shape)\n",
    "print(voxel_volume)\n",
    "print()\n",
    "np.count_nonzero(test_set[0][1]==1)*6*(2.5*2.5*4)"
   ]
  },
  {
   "cell_type": "code",
   "execution_count": null,
   "metadata": {},
   "outputs": [],
   "source": []
  }
 ],
 "metadata": {
  "kernelspec": {
   "display_name": "py3109",
   "language": "python",
   "name": "python3"
  },
  "language_info": {
   "codemirror_mode": {
    "name": "ipython",
    "version": 3
   },
   "file_extension": ".py",
   "mimetype": "text/x-python",
   "name": "python",
   "nbconvert_exporter": "python",
   "pygments_lexer": "ipython3",
   "version": "3.10.9"
  }
 },
 "nbformat": 4,
 "nbformat_minor": 2
}
