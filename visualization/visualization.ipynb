{
 "cells": [
  {
   "cell_type": "code",
   "execution_count": 1,
   "metadata": {},
   "outputs": [
    {
     "name": "stderr",
     "output_type": "stream",
     "text": [
      "c:\\Users\\Daniel\\anaconda3\\envs\\py3109\\lib\\site-packages\\torchvision\\datapoints\\__init__.py:12: UserWarning: The torchvision.datapoints and torchvision.transforms.v2 namespaces are still Beta. While we do not expect major breaking changes, some APIs may still change according to user feedback. Please submit any feedback you may have in this issue: https://github.com/pytorch/vision/issues/6753, and you can also check out https://github.com/pytorch/vision/issues/7319 to learn more about the APIs that we suspect might involve future changes. You can silence this warning by calling torchvision.disable_beta_transforms_warning().\n",
      "  warnings.warn(_BETA_TRANSFORMS_WARNING)\n",
      "c:\\Users\\Daniel\\anaconda3\\envs\\py3109\\lib\\site-packages\\torchvision\\transforms\\v2\\__init__.py:54: UserWarning: The torchvision.datapoints and torchvision.transforms.v2 namespaces are still Beta. While we do not expect major breaking changes, some APIs may still change according to user feedback. Please submit any feedback you may have in this issue: https://github.com/pytorch/vision/issues/6753, and you can also check out https://github.com/pytorch/vision/issues/7319 to learn more about the APIs that we suspect might involve future changes. You can silence this warning by calling torchvision.disable_beta_transforms_warning().\n",
      "  warnings.warn(_BETA_TRANSFORMS_WARNING)\n"
     ]
    },
    {
     "name": "stdout",
     "output_type": "stream",
     "text": [
      "2.0.1+cu117\n",
      "True\n",
      "Augmentation done with (-10, 10). Total images: 74\n",
      "Train: 52\n",
      "Val: 8\n",
      "Test: 14\n"
     ]
    }
   ],
   "source": [
    "import torch\n",
    "from model.UNet3D import UNet3D\n",
    "from utils import load_config, plot_overlay, plot_slices, plot_test\n",
    "from dataloader import Dataset\n",
    "from torch.utils.data import DataLoader, random_split\n",
    "from train import Trainer, Tester\n",
    "from logger import Logger\n",
    "from postprocessing import calc_volumes\n",
    "\n",
    "print(torch.__version__) \n",
    "print(torch.cuda.is_available())\n",
    "\n",
    "if __name__ == \"__main__\":  # must be enabled for num_workers > 0\n",
    "    config = load_config(\"config.json\")\n",
    "    dataset = Dataset(config)\n",
    "\n",
    "    train_set, val_set, test_set = random_split(dataset=dataset,\n",
    "                                                lengths=[0.7,0.1,0.2], \n",
    "                                                generator=torch.Generator().manual_seed(42))\n",
    "\n",
    "    train_loader = DataLoader(dataset=train_set, \n",
    "                            batch_size=config[\"trainer\"][\"batch_size\"],\n",
    "                            shuffle=True\n",
    "                            )\n",
    "    \n",
    "    val_loader = DataLoader(dataset=val_set, \n",
    "                            batch_size=1\n",
    "                            )\n",
    "    \n",
    "    test_loader = DataLoader(dataset=test_set,\n",
    "                            batch_size=1\n",
    "                            )\n",
    "    \n",
    "    print(f\"Train: {len(train_loader)}\\nVal: {len(val_loader)}\\nTest: {len(test_loader)}\")\n",
    "\n",
    "    model = UNet3D(in_channels=1, num_classes=2)\n",
    "    myLogger = Logger(config=config, save=True)\n",
    "    model.cuda()\n",
    "    model.load_state_dict(torch.load(R\"saved\\20240227_172605 320x320x16 150e 0.0005 aug\\weights.pth\"))"
   ]
  },
  {
   "cell_type": "code",
   "execution_count": null,
   "metadata": {},
   "outputs": [],
   "source": [
    "pd_data = calc_volumes(test_set, model)"
   ]
  },
  {
   "cell_type": "code",
   "execution_count": 1,
   "metadata": {},
   "outputs": [
    {
     "ename": "NameError",
     "evalue": "name 'pd_data' is not defined",
     "output_type": "error",
     "traceback": [
      "\u001b[1;31m---------------------------------------------------------------------------\u001b[0m",
      "\u001b[1;31mNameError\u001b[0m                                 Traceback (most recent call last)",
      "Cell \u001b[1;32mIn[1], line 2\u001b[0m\n\u001b[0;32m      1\u001b[0m \u001b[38;5;28;01mimport\u001b[39;00m \u001b[38;5;21;01mpandas\u001b[39;00m \u001b[38;5;28;01mas\u001b[39;00m \u001b[38;5;21;01mpd\u001b[39;00m\n\u001b[1;32m----> 2\u001b[0m df \u001b[38;5;241m=\u001b[39m pd\u001b[38;5;241m.\u001b[39mDataFrame(\u001b[43mpd_data\u001b[49m, columns\u001b[38;5;241m=\u001b[39m[\u001b[38;5;124m'\u001b[39m\u001b[38;5;124mFilename\u001b[39m\u001b[38;5;124m'\u001b[39m, \u001b[38;5;124m'\u001b[39m\u001b[38;5;124mVolume [mm^3]\u001b[39m\u001b[38;5;124m'\u001b[39m, \u001b[38;5;124m'\u001b[39m\u001b[38;5;124mVolume [L]\u001b[39m\u001b[38;5;124m'\u001b[39m, \u001b[38;5;124m'\u001b[39m\u001b[38;5;124mDSC (pre-resample)\u001b[39m\u001b[38;5;124m'\u001b[39m, \u001b[38;5;124m'\u001b[39m\u001b[38;5;124mDSC\u001b[39m\u001b[38;5;124m'\u001b[39m])\n\u001b[0;32m      3\u001b[0m df\n",
      "\u001b[1;31mNameError\u001b[0m: name 'pd_data' is not defined"
     ]
    }
   ],
   "source": [
    "import pandas as pd\n",
    "df = pd.DataFrame(pd_data, columns=['Filename', 'Volume [mm^3]', 'Volume [L]', 'DSC (pre-resample)', 'DSC'])\n",
    "df"
   ]
  },
  {
   "cell_type": "code",
   "execution_count": null,
   "metadata": {},
   "outputs": [],
   "source": [
    "import pandas as pd\n",
    "from tabulate import tabulate\n",
    "\n",
    "def pandas_df_to_markdown_table(df):\n",
    "    # Dependent upon ipython\n",
    "    # shamelessly stolen from https://stackoverflow.com/questions/33181846/programmatically-convert-pandas-dataframe-to-markdown-table\n",
    "    from IPython.display import Markdown, display\n",
    "    fmt = ['---' for i in range(len(df.columns))]\n",
    "    df_fmt = pd.DataFrame([fmt], columns=df.columns)\n",
    "    df_formatted = pd.concat([df_fmt, df])\n",
    "    #display(Markdown(df_formatted.to_csv(sep=\"|\", index=False)))\n",
    "    return Markdown(df_formatted.to_csv(sep=\"|\", index=False))\n",
    "#     return df_formatted\n",
    "\n",
    "def df_to_markdown(df, y_index=False):\n",
    "    blob = tabulate(df, headers='keys', tablefmt='pipe')\n",
    "    if not y_index:\n",
    "        # Remove the index with some creative splicing and iteration\n",
    "        return '\\n'.join(['| {}'.format(row.split('|', 2)[-1]) for row in blob.split('\\n')])\n",
    "    return blob"
   ]
  },
  {
   "cell_type": "code",
   "execution_count": null,
   "metadata": {},
   "outputs": [],
   "source": [
    "pandas_df_to_markdown_table(df)"
   ]
  },
  {
   "cell_type": "code",
   "execution_count": null,
   "metadata": {},
   "outputs": [],
   "source": [
    "vobj.header"
   ]
  },
  {
   "cell_type": "code",
   "execution_count": null,
   "metadata": {},
   "outputs": [],
   "source": [
    "15*24"
   ]
  },
  {
   "cell_type": "code",
   "execution_count": 3,
   "metadata": {},
   "outputs": [
    {
     "name": "stdout",
     "output_type": "stream",
     "text": [
      "torch.Size([160, 160, 16])\n",
      "[0 1]\n",
      "DSC (after resample): 0.9610176086425781\n",
      "Voxels: 474671 \n",
      "Volume 1 voxel: 14.062499999999622\n",
      "Shape after resampling: torch.Size([160, 160, 90])\n",
      "DSC: 0.9793073139184256\n"
     ]
    }
   ],
   "source": [
    "from postprocessing import Volume\n",
    "pred = model(test_set[0][0].unsqueeze(0).unsqueeze(0).cuda())\n",
    "vobj = Volume(image=test_set[0][0], \n",
    "              mask=test_set[0][1],\n",
    "              prediction=pred,\n",
    "              header=test_set[0][2])\n",
    "\n",
    "vobj.get_volume()\n",
    "print(f\"Shape after resampling: {vobj.prediction_mask.shape}\")\n"
   ]
  },
  {
   "cell_type": "code",
   "execution_count": null,
   "metadata": {},
   "outputs": [],
   "source": [
    "vobj.prediction_mask.shape"
   ]
  },
  {
   "cell_type": "code",
   "execution_count": 4,
   "metadata": {},
   "outputs": [],
   "source": [
    "import meshlib.mrmeshpy as mr\n",
    "import meshlib.mrmeshnumpy as mrn\n",
    "\n",
    "simpleVolume = mrn.simpleVolumeFrom3Darray(vobj.prediction_mask.numpy())\n",
    "floatGrid = mr.simpleVolumeToDenseGrid(simpleVolume )\n",
    "mesh = mr.gridToMesh(floatGrid , mr.Vector3f(0.1, 0.1, 0.1), 0.5)\n",
    "mr.saveMesh(mesh, \"mesh.stl\" )"
   ]
  },
  {
   "cell_type": "code",
   "execution_count": null,
   "metadata": {},
   "outputs": [],
   "source": [
    "test_set[0][2]"
   ]
  },
  {
   "cell_type": "code",
   "execution_count": null,
   "metadata": {},
   "outputs": [],
   "source": [
    "640*640*17*(0.625*0.625*24)"
   ]
  },
  {
   "cell_type": "code",
   "execution_count": null,
   "metadata": {},
   "outputs": [],
   "source": [
    "160*160*16*(2.5*2.5*25.5)"
   ]
  },
  {
   "cell_type": "code",
   "execution_count": null,
   "metadata": {},
   "outputs": [],
   "source": [
    "import numpy as np\n",
    "voxel_volume = vobj.get_new_spacings(test_set[0][2], test_set[0][1].shape)\n",
    "print(voxel_volume)\n",
    "print()\n",
    "np.count_nonzero(test_set[0][1]==1)*6*(2.5*2.5*4)"
   ]
  },
  {
   "cell_type": "code",
   "execution_count": 5,
   "metadata": {},
   "outputs": [
    {
     "name": "stdout",
     "output_type": "stream",
     "text": [
      "Jupyter environment detected. Enabling Open3D WebVisualizer.\n",
      "[Open3D INFO] WebRTC GUI backend enabled.\n",
      "[Open3D INFO] WebRTCWindowSystem: HTTP handshake server disabled.\n"
     ]
    }
   ],
   "source": [
    "import open3d as o3d\n",
    "mesh = o3d.io.read_triangle_mesh(\"mesh.stl\")\n",
    "mesh = mesh.compute_vertex_normals()\n",
    "o3d.visualization.draw_geometries([mesh], window_name=\"STL\", left=1000, top=200, width=800, height=650)"
   ]
  },
  {
   "cell_type": "code",
   "execution_count": null,
   "metadata": {},
   "outputs": [],
   "source": [
    "plot_test(test_set[0][0], test_set[0][1], pred, mask_only=True, nr_slices=10)"
   ]
  },
  {
   "cell_type": "code",
   "execution_count": null,
   "metadata": {},
   "outputs": [],
   "source": [
    "import numpy as np\n",
    "np.unique(vobj.prediction_mask)"
   ]
  },
  {
   "cell_type": "code",
   "execution_count": null,
   "metadata": {},
   "outputs": [],
   "source": []
  }
 ],
 "metadata": {
  "kernelspec": {
   "display_name": "py3109",
   "language": "python",
   "name": "python3"
  },
  "language_info": {
   "codemirror_mode": {
    "name": "ipython",
    "version": 3
   },
   "file_extension": ".py",
   "mimetype": "text/x-python",
   "name": "python",
   "nbconvert_exporter": "python",
   "pygments_lexer": "ipython3",
   "version": "3.10.9"
  }
 },
 "nbformat": 4,
 "nbformat_minor": 2
}
